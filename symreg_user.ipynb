{
 "cells": [
  {
   "cell_type": "code",
   "execution_count": 1,
   "metadata": {},
   "outputs": [],
   "source": [
    "import numpy as np\n",
    "from icecream import ic"
   ]
  },
  {
   "cell_type": "code",
   "execution_count": 4,
   "metadata": {},
   "outputs": [],
   "source": [
    "def f(x: np.ndarray) -> np.ndarray:\n",
    "    return x[0] + np.sin(x[1]) / 5"
   ]
  },
  {
   "cell_type": "code",
   "execution_count": null,
   "metadata": {},
   "outputs": [],
   "source": []
  },
  {
   "cell_type": "code",
   "execution_count": 5,
   "metadata": {},
   "outputs": [
    {
     "name": "stdout",
     "output_type": "stream",
     "text": [
      "x is  [-0.44522057 -0.09693854]\n",
      "y is  -0.46457793117767837\n",
      "0.0\n"
     ]
    }
   ],
   "source": [
    "from tree_gp.fitness import calculate_mse\n",
    "\n",
    "# Load the problem file\n",
    "problem = np.load('data/problem_0.npz')  # Replace 'path_to_your_file' with the correct path\n",
    "x = problem['x']\n",
    "y = problem['y']\n",
    "# so we have \n",
    "# x [1, 2, 3, 4, 5, 6, ... , n]\n",
    "#   [3, 5, 6, 7, 8, 1, ... , n]\n",
    "# y [4, 7 ,9, 4, 2, 1, ... , n]\n",
    "# so basically x[:, 0] = y[0]\n",
    "print(\"x is \", x[:, 0])\n",
    "print(\"y is \", y[0])\n",
    "prediction = f(x)\n",
    "print(calculate_mse(prediction, y))\n"
   ]
  }
 ],
 "metadata": {
  "kernelspec": {
   "display_name": ".proj",
   "language": "python",
   "name": "python3"
  },
  "language_info": {
   "codemirror_mode": {
    "name": "ipython",
    "version": 3
   },
   "file_extension": ".py",
   "mimetype": "text/x-python",
   "name": "python",
   "nbconvert_exporter": "python",
   "pygments_lexer": "ipython3",
   "version": "3.12.2"
  }
 },
 "nbformat": 4,
 "nbformat_minor": 2
}
